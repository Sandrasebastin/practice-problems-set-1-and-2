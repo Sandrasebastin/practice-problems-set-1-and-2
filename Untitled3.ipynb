{
 "cells": [
  {
   "cell_type": "code",
   "execution_count": 1,
   "id": "c83252d2",
   "metadata": {},
   "outputs": [
    {
     "name": "stdout",
     "output_type": "stream",
     "text": [
      "enter a str:  assembly\n",
      "{'a': 1, 's': 2, 'e': 1, 'm': 1, 'b': 1, 'l': 1, 'y': 1}\n"
     ]
    }
   ],
   "source": [
    "a=input(\"enter a str:  \")\n",
    "n={}\n",
    "for i in a:\n",
    "    if i in n:\n",
    "        n[i]+=1\n",
    "    else:\n",
    "        n[i]=1\n",
    "print(n)"
   ]
  },
  {
   "cell_type": "code",
   "execution_count": 2,
   "id": "4ce0cb6f",
   "metadata": {},
   "outputs": [
    {
     "data": {
      "text/plain": [
       "34"
      ]
     },
     "execution_count": 2,
     "metadata": {},
     "output_type": "execute_result"
    }
   ],
   "source": [
    "a=[34,12,7]\n",
    "max(a)"
   ]
  },
  {
   "cell_type": "code",
   "execution_count": 3,
   "id": "93477fa2",
   "metadata": {},
   "outputs": [
    {
     "name": "stdout",
     "output_type": "stream",
     "text": [
      "enter base value2\n",
      "enter exponent3\n",
      "8\n"
     ]
    }
   ],
   "source": [
    "a=int(input(\"enter base value\"))\n",
    "b=int(input(\"enter exponent\"))\n",
    "result=a**b\n",
    "print(result)"
   ]
  },
  {
   "cell_type": "code",
   "execution_count": 6,
   "id": "7d382676",
   "metadata": {},
   "outputs": [
    {
     "name": "stdout",
     "output_type": "stream",
     "text": [
      "sum of cubes:  36\n"
     ]
    }
   ],
   "source": [
    "def sum_of_cubes(n):\n",
    "    if n <= 0:\n",
    "        return 0\n",
    "    total_sum=0\n",
    "    for i in range(1,n):\n",
    "        total_sum +=i**3\n",
    "    return total_sum\n",
    "print(\"sum of cubes: \",sum_of_cubes(4))\n",
    "        "
   ]
  },
  {
   "cell_type": "code",
   "execution_count": 7,
   "id": "7a5a4025",
   "metadata": {},
   "outputs": [
    {
     "name": "stdout",
     "output_type": "stream",
     "text": [
      "1\n",
      "Fizz\n",
      "3\n",
      "Fizz\n",
      "Buzz\n",
      "Fizz\n",
      "7\n",
      "Fizz\n",
      "9\n",
      "FizzBuzz\n"
     ]
    }
   ],
   "source": [
    "for i in range(1, 11):\n",
    "    if i % 2 == 0 and i % 5 == 0:\n",
    "        print(\"FizzBuzz\")\n",
    "    elif i % 2 == 0:\n",
    "        print(\"Fizz\")\n",
    "    elif i % 5 == 0:\n",
    "        print(\"Buzz\")\n",
    "    else:\n",
    "        print(i)"
   ]
  },
  {
   "cell_type": "code",
   "execution_count": 8,
   "id": "ad72a2f9",
   "metadata": {},
   "outputs": [
    {
     "name": "stdout",
     "output_type": "stream",
     "text": [
      "2\n"
     ]
    }
   ],
   "source": [
    "def most_frequent(List):\n",
    "    counter = 0\n",
    "    num = List[0]\n",
    "     \n",
    "    for i in List:\n",
    "        curr_frequency = List.count(i)\n",
    "        if(curr_frequency> counter):\n",
    "            counter = curr_frequency\n",
    "            num = i\n",
    " \n",
    "    return num\n",
    " \n",
    "List = [2, 1, 2, 2, 1, 3]\n",
    "print(most_frequent(List))"
   ]
  },
  {
   "cell_type": "code",
   "execution_count": 9,
   "id": "a98e1132",
   "metadata": {},
   "outputs": [
    {
     "name": "stdout",
     "output_type": "stream",
     "text": [
      "Enter a list of numbers: 2 1 3 1\n",
      "Sum of squares: 15\n"
     ]
    }
   ],
   "source": [
    "def sum_of_squares(numbers):\n",
    "    return sum(i ** 2 for i in numbers)\n",
    "\n",
    "input_string = input(\"Enter a list of numbers: \")\n",
    "input_numbers = [int(i) for i in input_string.split()]\n",
    "result = sum_of_squares(input_numbers)\n",
    "print(\"Sum of squares:\", result)"
   ]
  },
  {
   "cell_type": "code",
   "execution_count": 13,
   "id": "39c84419",
   "metadata": {},
   "outputs": [
    {
     "name": "stdout",
     "output_type": "stream",
     "text": [
      "1-odd\n",
      "2-even\n",
      "3-odd\n",
      "4-even\n",
      "5-odd\n",
      "6-even\n",
      "7-odd\n",
      "8-even\n",
      "9-odd\n",
      "10-even\n",
      "11-odd\n",
      "12-even\n",
      "13-odd\n",
      "14-even\n",
      "15-odd\n"
     ]
    }
   ],
   "source": [
    "for num in range(1, 16):\n",
    "    if num % 2 == 0:\n",
    "        print(f\"{num}-even\")\n",
    "    else:\n",
    "        print(f\"{num}-odd\")"
   ]
  },
  {
   "cell_type": "code",
   "execution_count": 15,
   "id": "b084cd86",
   "metadata": {},
   "outputs": [
    {
     "name": "stdout",
     "output_type": "stream",
     "text": [
      "Enter temperature in Fahrenheit: 41\n",
      "Temperature in Celsius = 5.0\n"
     ]
    }
   ],
   "source": [
    "def fahrenheit_to_celsius(fahrenheit):\n",
    "    celsius = (fahrenheit - 32) * 5/9\n",
    "    return celsius\n",
    "\n",
    "fahrenheit_temp = float(input(\"Enter temperature in Fahrenheit: \"))\n",
    "celsius_temp = fahrenheit_to_celsius(fahrenheit_temp)\n",
    "print(\"Temperature in Celsius =\", celsius_temp)\n",
    "\n",
    "\n",
    "\n",
    "\n"
   ]
  },
  {
   "cell_type": "code",
   "execution_count": 1,
   "id": "f648feb1",
   "metadata": {},
   "outputs": [
    {
     "name": "stdout",
     "output_type": "stream",
     "text": [
      "Enter temperature in  celsius: 5\n",
      "Temperature in fahrenheit  = 41.0\n"
     ]
    }
   ],
   "source": [
    "def celsius_to_fahrenheit(celsius):\n",
    "    fahrenheit = (celsius * 9/5) + 32\n",
    "    return fahrenheit\n",
    "celsius_temp =  float(input(\"Enter temperature in  celsius: \"))\n",
    "fahrenheit_temp = celsius_to_fahrenheit(celsius_temp)\n",
    "print(\"Temperature in fahrenheit  =\",fahrenheit_temp )\n"
   ]
  },
  {
   "cell_type": "code",
   "execution_count": 3,
   "id": "c7d9442b",
   "metadata": {},
   "outputs": [
    {
     "name": "stdout",
     "output_type": "stream",
     "text": [
      "Enter a non-negative integer: 3\n",
      "6\n"
     ]
    }
   ],
   "source": [
    "def factorial(n):\n",
    "    if n == 0:\n",
    "        return 1  ### 0!=1\n",
    "    else:\n",
    "        return n * factorial(n - 1)    ###n!=n*(n-1)!\n",
    "\n",
    "num = int(input(\"Enter a non-negative integer: \"))\n",
    "result = factorial(num)\n",
    "print(result)\n",
    "\n",
    "\n",
    "\n"
   ]
  },
  {
   "cell_type": "code",
   "execution_count": null,
   "id": "d5e65af5",
   "metadata": {},
   "outputs": [],
   "source": []
  }
 ],
 "metadata": {
  "kernelspec": {
   "display_name": "Python 3 (ipykernel)",
   "language": "python",
   "name": "python3"
  },
  "language_info": {
   "codemirror_mode": {
    "name": "ipython",
    "version": 3
   },
   "file_extension": ".py",
   "mimetype": "text/x-python",
   "name": "python",
   "nbconvert_exporter": "python",
   "pygments_lexer": "ipython3",
   "version": "3.11.3"
  }
 },
 "nbformat": 4,
 "nbformat_minor": 5
}
