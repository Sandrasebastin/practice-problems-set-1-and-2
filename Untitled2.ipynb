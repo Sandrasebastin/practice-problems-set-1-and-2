{
 "cells": [
  {
   "cell_type": "code",
   "execution_count": 1,
   "id": "a31c2258",
   "metadata": {},
   "outputs": [
    {
     "name": "stdout",
     "output_type": "stream",
     "text": [
      "enter radius: 3\n",
      "Area of circle is 28.274333882308138\n"
     ]
    }
   ],
   "source": [
    "import numpy as n\n",
    "r=int(input(\"enter radius: \"))\n",
    "area_of_circle=n.pi*r**2\n",
    "print(\"Area of circle is\",area_of_circle)"
   ]
  },
  {
   "cell_type": "code",
   "execution_count": 2,
   "id": "cf34cd85",
   "metadata": {},
   "outputs": [
    {
     "name": "stdout",
     "output_type": "stream",
     "text": [
      "enter name: anisha\n",
      "enter roll number: 21\n",
      "enter mark: 78\n",
      "Name: anisha\n",
      "Roll number: 21\n",
      "Mark: 78\n"
     ]
    }
   ],
   "source": [
    "_name=input(\"enter name: \")\n",
    "roll_number=int(input(\"enter roll number: \"))\n",
    "_mark=int(input(\"enter mark: \"))\n",
    "print(\"Name:\",_name)\n",
    "print(\"Roll number:\",roll_number)\n",
    "print(\"Mark:\",_mark)"
   ]
  },
  {
   "cell_type": "code",
   "execution_count": 3,
   "id": "269ed61c",
   "metadata": {},
   "outputs": [
    {
     "data": {
      "text/plain": [
       "47"
      ]
     },
     "execution_count": 3,
     "metadata": {},
     "output_type": "execute_result"
    }
   ],
   "source": [
    "A=[12,3,47,10]\n",
    "max(A)"
   ]
  },
  {
   "cell_type": "code",
   "execution_count": 4,
   "id": "18319325",
   "metadata": {},
   "outputs": [
    {
     "name": "stdout",
     "output_type": "stream",
     "text": [
      "current num 1 previous num 0 sum:  1\n",
      "current num 2 previous num 1 sum:  3\n",
      "current num 3 previous num 2 sum:  5\n",
      "current num 4 previous num 3 sum:  7\n",
      "current num 5 previous num 4 sum:  9\n",
      "current num 6 previous num 5 sum:  11\n",
      "current num 7 previous num 6 sum:  13\n",
      "current num 8 previous num 7 sum:  15\n",
      "current num 9 previous num 8 sum:  17\n",
      "current num 10 previous num 9 sum:  19\n"
     ]
    }
   ],
   "source": [
    "previous_num=0\n",
    "for i in range(1,11):\n",
    "    _sum=previous_num+i\n",
    "    print(\"current num\",i,\"previous num\",previous_num,\"sum: \",_sum)\n",
    "    previous_num=i\n",
    "    "
   ]
  },
  {
   "cell_type": "code",
   "execution_count": 5,
   "id": "3d63792e",
   "metadata": {},
   "outputs": [
    {
     "name": "stdout",
     "output_type": "stream",
     "text": [
      "enter number: 10 20 33 46 55\n",
      "10\n",
      "20\n",
      "55\n"
     ]
    }
   ],
   "source": [
    "num_list=input(\"enter number: \").split()\n",
    "for num in num_list:\n",
    "    num=int(num)\n",
    "    if num % 5==0:\n",
    "        print(num)"
   ]
  },
  {
   "cell_type": "code",
   "execution_count": 7,
   "id": "5a07dc2e",
   "metadata": {},
   "outputs": [
    {
     "name": "stdout",
     "output_type": "stream",
     "text": [
      "enter any num: 7\n",
      "7 is prime\n"
     ]
    }
   ],
   "source": [
    "num=int(input(\"enter any num: \"))\n",
    "if num>1:\n",
    "    for i in range(2,num):\n",
    "        if (num%i)==0:\n",
    "            print(num,\"is not prime\")\n",
    "            break\n",
    "    else:\n",
    "        print(num,\"is prime\")\n",
    "else:\n",
    "    print(num,\"is not prime\")"
   ]
  },
  {
   "cell_type": "code",
   "execution_count": 8,
   "id": "59c74e60",
   "metadata": {},
   "outputs": [
    {
     "name": "stdout",
     "output_type": "stream",
     "text": [
      "enter any num6\n",
      "6 is not prime\n"
     ]
    }
   ],
   "source": [
    "num=int(input(\"enter any num\"))\n",
    "if num>1:\n",
    "    for i in range(2,num):\n",
    "        if (num%i)==0:\n",
    "            print(num,\"is not prime\")\n",
    "            break\n",
    "    else:\n",
    "        print(num,\"is prime\")\n",
    "else:\n",
    "    print(num,\"is not prime\")"
   ]
  },
  {
   "cell_type": "code",
   "execution_count": 9,
   "id": "e4ac5112",
   "metadata": {},
   "outputs": [
    {
     "name": "stdout",
     "output_type": "stream",
     "text": [
      "input list:  [10, 40, 30, 70]\n",
      "output=reversed input list:  [70, 30, 40, 10]\n"
     ]
    }
   ],
   "source": [
    "given_list=[10,40,30,70]\n",
    "print(\"input list: \",given_list)\n",
    "given_list.reverse()\n",
    "print(\"output=reversed input list: \",given_list)"
   ]
  },
  {
   "cell_type": "code",
   "execution_count": 10,
   "id": "9dc0e063",
   "metadata": {},
   "outputs": [
    {
     "name": "stdout",
     "output_type": "stream",
     "text": [
      "*\n",
      "**\n",
      "***\n",
      "****\n"
     ]
    }
   ],
   "source": [
    "for i in range(1,5):\n",
    "    print(\"*\" * i)"
   ]
  },
  {
   "cell_type": "code",
   "execution_count": 11,
   "id": "80692622",
   "metadata": {},
   "outputs": [
    {
     "data": {
      "text/plain": [
       "34"
      ]
     },
     "execution_count": 11,
     "metadata": {},
     "output_type": "execute_result"
    }
   ],
   "source": [
    "S=[34,12,17]\n",
    "max(S)"
   ]
  },
  {
   "cell_type": "code",
   "execution_count": 12,
   "id": "be98d1de",
   "metadata": {},
   "outputs": [
    {
     "name": "stdout",
     "output_type": "stream",
     "text": [
      "*\n",
      "**\n",
      "***\n",
      "****\n",
      "*****\n",
      "****\n",
      "***\n",
      "**\n",
      "*\n"
     ]
    }
   ],
   "source": [
    "num_rows=5\n",
    "for i in range(1,num_rows+1):\n",
    "    print('*'*i)\n",
    "\n",
    "for i in range(num_rows-1,0,-1):\n",
    "    print('*'*i)\n",
    "    "
   ]
  }
 ],
 "metadata": {
  "kernelspec": {
   "display_name": "Python 3 (ipykernel)",
   "language": "python",
   "name": "python3"
  },
  "language_info": {
   "codemirror_mode": {
    "name": "ipython",
    "version": 3
   },
   "file_extension": ".py",
   "mimetype": "text/x-python",
   "name": "python",
   "nbconvert_exporter": "python",
   "pygments_lexer": "ipython3",
   "version": "3.11.3"
  }
 },
 "nbformat": 4,
 "nbformat_minor": 5
}
